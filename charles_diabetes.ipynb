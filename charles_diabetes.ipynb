{
  "nbformat": 4,
  "nbformat_minor": 0,
  "metadata": {
    "colab": {
      "provenance": [],
      "collapsed_sections": [
        "gfSowsy_LoKZ"
      ]
    },
    "kernelspec": {
      "name": "python3",
      "display_name": "Python 3"
    },
    "language_info": {
      "name": "python"
    }
  },
  "cells": [
    {
      "cell_type": "markdown",
      "metadata": {
        "id": "DGb9lZPLLjJC"
      },
      "source": [
        "# Practice Notebook: New Models: Random Forest"
      ]
    },
    {
      "cell_type": "markdown",
      "metadata": {
        "id": "gfSowsy_LoKZ"
      },
      "source": [
        "## Question"
      ]
    },
    {
      "cell_type": "markdown",
      "metadata": {
        "id": "C1enEvozLkmw"
      },
      "source": [
        "As a data professional working for a pharmaceutical company, you need to develop a model that predicts whether a patient will be diagnosed with diabetes. The model needs to have an accuracy score greater than 0.85.\n",
        "Train a random forest model. The test set accuracy should be at least 0.85.\n",
        "\n",
        "Try n_estimators values from 1 to 10. Pick the option with the best quality for the validation set.\n",
        "\n"
      ]
    },
    {
      "cell_type": "code",
      "metadata": {
        "id": "b_EASYGtLesK"
      },
      "source": [
        "#import library\n",
        "import pandas as pd\n",
        "from sklearn.ensemble import RandomForestClassifier\n",
        "from sklearn.tree import DecisionTreeClassifier\n",
        "from sklearn.metrics import accuracy_score\n",
        "from sklearn.model_selection import train_test_split\n",
        "from sklearn.linear_model import LogisticRegression\n",
        "\n"
      ],
      "execution_count": 1,
      "outputs": []
    },
    {
      "cell_type": "code",
      "source": [
        "#Data Exploration\n",
        "diabetes_df.sample()\n",
        "diabetes_df.head()\n",
        "diabetes_df.tail()\n",
        "diabetes_df.shape"
      ],
      "metadata": {
        "colab": {
          "base_uri": "https://localhost:8080/"
        },
        "id": "ffrnlpHgWaa1",
        "outputId": "92d17b27-e349-4666-bade-cadbce965863"
      },
      "execution_count": 5,
      "outputs": [
        {
          "output_type": "execute_result",
          "data": {
            "text/plain": [
              "(768, 9)"
            ]
          },
          "metadata": {},
          "execution_count": 5
        }
      ]
    },
    {
      "cell_type": "code",
      "source": [
        "#Data Cleaning/Preparation--check for duplicates, missing values, datatypes,standardise the columns name\n",
        "from pandas._libs.hashtable import duplicated\n",
        "diabetes_df.duplicated().any() \n",
        "diabetes_df.isnull().sum() \n",
        "diabetes_df.dtypes\n",
        "diabetes_df.columns = diabetes_df.columns.str.lower().str.strip()\n",
        "diabetes_df.head()\n"
      ],
      "metadata": {
        "id": "_ojcLcHpxMOM",
        "outputId": "cb8fe9a1-f800-46a7-a987-551271d294f0",
        "colab": {
          "base_uri": "https://localhost:8080/",
          "height": 206
        }
      },
      "execution_count": 9,
      "outputs": [
        {
          "output_type": "execute_result",
          "data": {
            "text/plain": [
              "   pregnancies  glucose  bloodpressure  skinthickness  insulin   bmi  \\\n",
              "0            6      148             72             35        0  33.6   \n",
              "1            1       85             66             29        0  26.6   \n",
              "2            8      183             64              0        0  23.3   \n",
              "3            1       89             66             23       94  28.1   \n",
              "4            0      137             40             35      168  43.1   \n",
              "\n",
              "   diabetespedigreefunction  age  outcome  \n",
              "0                     0.627   50        1  \n",
              "1                     0.351   31        0  \n",
              "2                     0.672   32        1  \n",
              "3                     0.167   21        0  \n",
              "4                     2.288   33        1  "
            ],
            "text/html": [
              "\n",
              "  <div id=\"df-e4c70314-7ea7-4688-ab35-a4499de65266\">\n",
              "    <div class=\"colab-df-container\">\n",
              "      <div>\n",
              "<style scoped>\n",
              "    .dataframe tbody tr th:only-of-type {\n",
              "        vertical-align: middle;\n",
              "    }\n",
              "\n",
              "    .dataframe tbody tr th {\n",
              "        vertical-align: top;\n",
              "    }\n",
              "\n",
              "    .dataframe thead th {\n",
              "        text-align: right;\n",
              "    }\n",
              "</style>\n",
              "<table border=\"1\" class=\"dataframe\">\n",
              "  <thead>\n",
              "    <tr style=\"text-align: right;\">\n",
              "      <th></th>\n",
              "      <th>pregnancies</th>\n",
              "      <th>glucose</th>\n",
              "      <th>bloodpressure</th>\n",
              "      <th>skinthickness</th>\n",
              "      <th>insulin</th>\n",
              "      <th>bmi</th>\n",
              "      <th>diabetespedigreefunction</th>\n",
              "      <th>age</th>\n",
              "      <th>outcome</th>\n",
              "    </tr>\n",
              "  </thead>\n",
              "  <tbody>\n",
              "    <tr>\n",
              "      <th>0</th>\n",
              "      <td>6</td>\n",
              "      <td>148</td>\n",
              "      <td>72</td>\n",
              "      <td>35</td>\n",
              "      <td>0</td>\n",
              "      <td>33.6</td>\n",
              "      <td>0.627</td>\n",
              "      <td>50</td>\n",
              "      <td>1</td>\n",
              "    </tr>\n",
              "    <tr>\n",
              "      <th>1</th>\n",
              "      <td>1</td>\n",
              "      <td>85</td>\n",
              "      <td>66</td>\n",
              "      <td>29</td>\n",
              "      <td>0</td>\n",
              "      <td>26.6</td>\n",
              "      <td>0.351</td>\n",
              "      <td>31</td>\n",
              "      <td>0</td>\n",
              "    </tr>\n",
              "    <tr>\n",
              "      <th>2</th>\n",
              "      <td>8</td>\n",
              "      <td>183</td>\n",
              "      <td>64</td>\n",
              "      <td>0</td>\n",
              "      <td>0</td>\n",
              "      <td>23.3</td>\n",
              "      <td>0.672</td>\n",
              "      <td>32</td>\n",
              "      <td>1</td>\n",
              "    </tr>\n",
              "    <tr>\n",
              "      <th>3</th>\n",
              "      <td>1</td>\n",
              "      <td>89</td>\n",
              "      <td>66</td>\n",
              "      <td>23</td>\n",
              "      <td>94</td>\n",
              "      <td>28.1</td>\n",
              "      <td>0.167</td>\n",
              "      <td>21</td>\n",
              "      <td>0</td>\n",
              "    </tr>\n",
              "    <tr>\n",
              "      <th>4</th>\n",
              "      <td>0</td>\n",
              "      <td>137</td>\n",
              "      <td>40</td>\n",
              "      <td>35</td>\n",
              "      <td>168</td>\n",
              "      <td>43.1</td>\n",
              "      <td>2.288</td>\n",
              "      <td>33</td>\n",
              "      <td>1</td>\n",
              "    </tr>\n",
              "  </tbody>\n",
              "</table>\n",
              "</div>\n",
              "      <button class=\"colab-df-convert\" onclick=\"convertToInteractive('df-e4c70314-7ea7-4688-ab35-a4499de65266')\"\n",
              "              title=\"Convert this dataframe to an interactive table.\"\n",
              "              style=\"display:none;\">\n",
              "        \n",
              "  <svg xmlns=\"http://www.w3.org/2000/svg\" height=\"24px\"viewBox=\"0 0 24 24\"\n",
              "       width=\"24px\">\n",
              "    <path d=\"M0 0h24v24H0V0z\" fill=\"none\"/>\n",
              "    <path d=\"M18.56 5.44l.94 2.06.94-2.06 2.06-.94-2.06-.94-.94-2.06-.94 2.06-2.06.94zm-11 1L8.5 8.5l.94-2.06 2.06-.94-2.06-.94L8.5 2.5l-.94 2.06-2.06.94zm10 10l.94 2.06.94-2.06 2.06-.94-2.06-.94-.94-2.06-.94 2.06-2.06.94z\"/><path d=\"M17.41 7.96l-1.37-1.37c-.4-.4-.92-.59-1.43-.59-.52 0-1.04.2-1.43.59L10.3 9.45l-7.72 7.72c-.78.78-.78 2.05 0 2.83L4 21.41c.39.39.9.59 1.41.59.51 0 1.02-.2 1.41-.59l7.78-7.78 2.81-2.81c.8-.78.8-2.07 0-2.86zM5.41 20L4 18.59l7.72-7.72 1.47 1.35L5.41 20z\"/>\n",
              "  </svg>\n",
              "      </button>\n",
              "      \n",
              "  <style>\n",
              "    .colab-df-container {\n",
              "      display:flex;\n",
              "      flex-wrap:wrap;\n",
              "      gap: 12px;\n",
              "    }\n",
              "\n",
              "    .colab-df-convert {\n",
              "      background-color: #E8F0FE;\n",
              "      border: none;\n",
              "      border-radius: 50%;\n",
              "      cursor: pointer;\n",
              "      display: none;\n",
              "      fill: #1967D2;\n",
              "      height: 32px;\n",
              "      padding: 0 0 0 0;\n",
              "      width: 32px;\n",
              "    }\n",
              "\n",
              "    .colab-df-convert:hover {\n",
              "      background-color: #E2EBFA;\n",
              "      box-shadow: 0px 1px 2px rgba(60, 64, 67, 0.3), 0px 1px 3px 1px rgba(60, 64, 67, 0.15);\n",
              "      fill: #174EA6;\n",
              "    }\n",
              "\n",
              "    [theme=dark] .colab-df-convert {\n",
              "      background-color: #3B4455;\n",
              "      fill: #D2E3FC;\n",
              "    }\n",
              "\n",
              "    [theme=dark] .colab-df-convert:hover {\n",
              "      background-color: #434B5C;\n",
              "      box-shadow: 0px 1px 3px 1px rgba(0, 0, 0, 0.15);\n",
              "      filter: drop-shadow(0px 1px 2px rgba(0, 0, 0, 0.3));\n",
              "      fill: #FFFFFF;\n",
              "    }\n",
              "  </style>\n",
              "\n",
              "      <script>\n",
              "        const buttonEl =\n",
              "          document.querySelector('#df-e4c70314-7ea7-4688-ab35-a4499de65266 button.colab-df-convert');\n",
              "        buttonEl.style.display =\n",
              "          google.colab.kernel.accessAllowed ? 'block' : 'none';\n",
              "\n",
              "        async function convertToInteractive(key) {\n",
              "          const element = document.querySelector('#df-e4c70314-7ea7-4688-ab35-a4499de65266');\n",
              "          const dataTable =\n",
              "            await google.colab.kernel.invokeFunction('convertToInteractive',\n",
              "                                                     [key], {});\n",
              "          if (!dataTable) return;\n",
              "\n",
              "          const docLinkHtml = 'Like what you see? Visit the ' +\n",
              "            '<a target=\"_blank\" href=https://colab.research.google.com/notebooks/data_table.ipynb>data table notebook</a>'\n",
              "            + ' to learn more about interactive tables.';\n",
              "          element.innerHTML = '';\n",
              "          dataTable['output_type'] = 'display_data';\n",
              "          await google.colab.output.renderOutput(dataTable, element);\n",
              "          const docLink = document.createElement('div');\n",
              "          docLink.innerHTML = docLinkHtml;\n",
              "          element.appendChild(docLink);\n",
              "        }\n",
              "      </script>\n",
              "    </div>\n",
              "  </div>\n",
              "  "
            ]
          },
          "metadata": {},
          "execution_count": 9
        }
      ]
    },
    {
      "cell_type": "code",
      "source": [
        "#data modeling\n",
        "train_df, valid_df = train_test_split(diabetes_df, test_size=1, random_state=1234)\n",
        "print(train_df.shape)\n",
        "print(valid_df.shape)"
      ],
      "metadata": {
        "id": "ka3rTc87z1wB",
        "outputId": "8ee6f9c6-72ef-46a5-87d5-beaeae52ffd1",
        "colab": {
          "base_uri": "https://localhost:8080/"
        }
      },
      "execution_count": 10,
      "outputs": [
        {
          "output_type": "stream",
          "name": "stdout",
          "text": [
            "(767, 9)\n",
            "(1, 9)\n"
          ]
        }
      ]
    },
    {
      "cell_type": "code",
      "source": [
        "#Construct features and target for both train and test\n",
        "features_train = train_df.drop(columns=['outcome'])\n",
        "target_train = train_df['outcome']\n",
        "features_valid = valid_df.drop(columns=['outcome'])\n",
        "target_valid = valid_df['outcome']\n",
        "\n",
        "#Construct a model for Decision Trees, Random Forest and Logistic Regression\n",
        "#a) Decision Trees, \n",
        "for d in range(1, 11, 1):\n",
        "  tree_model = DecisionTreeClassifier(random_state=1234, max_depth=d)\n",
        "  tree_model.fit(features_train, target_train)  #train the model\n",
        "  #check for accuracy\n",
        "  print(f'Decision tree has accuracy of: {tree_model.score(features_train, target_train)} for depth of: {d}')\n",
        "\n",
        "#b) random forest \n",
        "for n in range(1,20,1):\n",
        "  forest_model = RandomForestClassifier(random_state=1234, n_estimators=n)\n",
        "  forest_model.fit(features_train, target_train)\n",
        "  print(f'Random forest has accuracy of: {forest_model.score(features_train, target_train)} for n={n}')\n",
        "\n",
        "#c) logistic regression\n",
        "log_model = LogisticRegression(random_state=1234, solver='liblinear')\n",
        "log_model.fit(features_train, target_train)\n",
        "print(f'logistic regression has accuracy of: {log_model.score(features_train, target_train)}')\n",
        "\n",
        "\n"
      ],
      "metadata": {
        "id": "VCD2qH545SgE",
        "outputId": "7378ae1e-435e-4107-aaf9-3f34331b28e1",
        "colab": {
          "base_uri": "https://localhost:8080/"
        }
      },
      "execution_count": 11,
      "outputs": [
        {
          "output_type": "stream",
          "name": "stdout",
          "text": [
            "Decision tree has accuracy of: 0.7353324641460235 for depth of: 1\n",
            "Decision tree has accuracy of: 0.771838331160365 for depth of: 2\n",
            "Decision tree has accuracy of: 0.7757496740547588 for depth of: 3\n",
            "Decision tree has accuracy of: 0.7913950456323338 for depth of: 4\n",
            "Decision tree has accuracy of: 0.8370273794002607 for depth of: 5\n",
            "Decision tree has accuracy of: 0.8513689700130378 for depth of: 6\n",
            "Decision tree has accuracy of: 0.8917861799217731 for depth of: 7\n",
            "Decision tree has accuracy of: 0.9282920469361148 for depth of: 8\n",
            "Decision tree has accuracy of: 0.9569752281616688 for depth of: 9\n",
            "Decision tree has accuracy of: 0.970013037809648 for depth of: 10\n",
            "Random forest has accuracy of: 0.8917861799217731 for n=1\n",
            "Random forest has accuracy of: 0.9074315514993481 for n=2\n",
            "Random forest has accuracy of: 0.9595827900912647 for n=3\n",
            "Random forest has accuracy of: 0.9556714471968709 for n=4\n",
            "Random forest has accuracy of: 0.9739243807040417 for n=5\n",
            "Random forest has accuracy of: 0.9687092568448501 for n=6\n",
            "Random forest has accuracy of: 0.9791395045632334 for n=7\n",
            "Random forest has accuracy of: 0.9817470664928292 for n=8\n",
            "Random forest has accuracy of: 0.984354628422425 for n=9\n",
            "Random forest has accuracy of: 0.9830508474576272 for n=10\n",
            "Random forest has accuracy of: 0.9882659713168188 for n=11\n",
            "Random forest has accuracy of: 0.9882659713168188 for n=12\n",
            "Random forest has accuracy of: 0.9921773142112125 for n=13\n",
            "Random forest has accuracy of: 0.9908735332464146 for n=14\n",
            "Random forest has accuracy of: 0.9973924380704041 for n=15\n",
            "Random forest has accuracy of: 0.9960886571056062 for n=16\n",
            "Random forest has accuracy of: 0.9960886571056062 for n=17\n",
            "Random forest has accuracy of: 0.9960886571056062 for n=18\n",
            "Random forest has accuracy of: 0.9973924380704041 for n=19\n",
            "logistic regression has accuracy of: 0.7757496740547588\n"
          ]
        }
      ]
    },
    {
      "cell_type": "markdown",
      "source": [
        "###Conclusion\n",
        "*   From above, logistic regression does not meet the criteria of >=0.85 prediction accuracy. Random forest portrays a prediction accuracy >0.85 for n_estimator >=1 whereas Decision tree depicts prediction accuracy >=0.85 where tree depth is >=6.\n",
        "Thus, recommend decision tree as it meets the criteria and is fast in comparison to Random forest which also meets the criteria but is slow. \n",
        "\n",
        "\n",
        "\n",
        "\n",
        "\n"
      ],
      "metadata": {
        "id": "jz-oMDgjDqnz"
      }
    }
  ]
}